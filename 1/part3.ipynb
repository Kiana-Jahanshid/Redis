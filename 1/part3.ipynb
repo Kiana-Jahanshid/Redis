{
 "cells": [
  {
   "cell_type": "markdown",
   "metadata": {},
   "source": [
    "# part 3 \n",
    "Problem 1: Store User Session Information"
   ]
  },
  {
   "cell_type": "code",
   "execution_count": 12,
   "metadata": {},
   "outputs": [
    {
     "name": "stdout",
     "output_type": "stream",
     "text": [
      "{'user_ID': '1212', 'last_login': '2024-09-23 23:46:25'}\n"
     ]
    }
   ],
   "source": [
    "import redis\n",
    "import datetime\n",
    "\n",
    "def store_user_session(json):\n",
    "    user_session_info = redis.Redis(host=\"localhost\" , port=6379 , db=0 , decode_responses=True)\n",
    "    user_session_info.hset(\"USER_SESSION:1\" , mapping=json )\n",
    "    session_data = user_session_info.hgetall(\"USER_SESSION:1\")    \n",
    "    return session_data\n",
    "\n",
    "json = {\"user_ID\": 1212 , \"last_login\": str(datetime.datetime.now().strftime(\"%Y-%m-%d %H:%M:%S\"))}\n",
    "session_data = store_user_session(json)\n",
    "print(session_data)"
   ]
  },
  {
   "cell_type": "markdown",
   "metadata": {},
   "source": [
    "### Problem 2: Expire Keys\n",
    "+ stores a temporary OTP (one-time password) for a user \n",
    "+ that expires after 60 seconds using the SETEX command.(Verifies that after 60 seconds, the OTP is no longer available in Redis.)\n"
   ]
  },
  {
   "cell_type": "markdown",
   "metadata": {},
   "source": [
    "### Expire on time password :\n",
    "Expire on write may not work for every scenario. There are cases where we’ll want to cache the query for a set amount of time only. For these, we can use Redis to expire our keys."
   ]
  },
  {
   "cell_type": "code",
   "execution_count": 17,
   "metadata": {},
   "outputs": [
    {
     "name": "stdout",
     "output_type": "stream",
     "text": [
      "temporary password :  95459\n",
      "temporary password :  None\n",
      "Temporary password removed after 60 sec\n"
     ]
    }
   ],
   "source": [
    "import time\n",
    "\n",
    "temp_OTP = \"95459\"\n",
    "user_ID = \"2121\"\n",
    "expire_time = 60\n",
    "\n",
    "\n",
    "user_info = redis.Redis(host=\"localhost\" , port=6379 , db=0 , decode_responses=True)\n",
    "#store temp_opt in redis for 60 seconds\n",
    "user_info.set(name=f\"temp_pass:{user_ID}\" , value=\"95459\" , ex=expire_time)\n",
    "\n",
    "temp_pass = user_info.get(f\"temp_pass:{user_ID}\")\n",
    "print(\"temporary password : \" , temp_pass)\n",
    "\n",
    "time.sleep(expire_time)\n",
    "\n",
    "# after 60 seconds , temp_pass will be remove from redis\n",
    "\n",
    "# Convert set to string first, then to bytes : وگرنه خطا میده \n",
    "check_temp_password = user_info.get( str( {f\"temp_pass:{user_ID}\"} ).encode(\"utf-8\")  )\n",
    "print(\"temporary password : \" , check_temp_password)\n",
    "if check_temp_password is None :\n",
    "    print(\"Temporary password removed after 60 sec\")\n",
    "else :\n",
    "    print(\"Temporary password was not removed from redis\")"
   ]
  },
  {
   "cell_type": "markdown",
   "metadata": {},
   "source": [
    "## why decoding ?\n",
    "+ When using Redis in Python, especially with the redis-py library, the need to decode the response arises because Redis stores and returns data as byte strings (i.e., b'string'), whereas Python typically works with regular strings (i.e., str)."
   ]
  }
 ],
 "metadata": {
  "kernelspec": {
   "display_name": "Python 3",
   "language": "python",
   "name": "python3"
  },
  "language_info": {
   "codemirror_mode": {
    "name": "ipython",
    "version": 3
   },
   "file_extension": ".py",
   "mimetype": "text/x-python",
   "name": "python",
   "nbconvert_exporter": "python",
   "pygments_lexer": "ipython3",
   "version": "3.10.1"
  }
 },
 "nbformat": 4,
 "nbformat_minor": 2
}
