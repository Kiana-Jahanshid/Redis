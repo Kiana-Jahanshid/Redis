{
 "cells": [
  {
   "cell_type": "markdown",
   "metadata": {},
   "source": [
    "# PART7 :\n",
    "### Batch User Data Updates with Redis Pipelines\n",
    "\n",
    "\n",
    "2. You need to store this information in Redis using hashes where:\n",
    "    - The Redis key for each user is `\"user:<user_id>\"`.\n",
    "    - Each hash will store the user’s `age` and `score`.\n",
    "3. Use a Redis pipeline to efficiently batch and execute the Redis commands for storing all users' data.\n",
    "\n",
    "\n",
    "- After storing, retrieves the data for each user and prints it out.\n"
   ]
  },
  {
   "cell_type": "code",
   "execution_count": 1,
   "metadata": {},
   "outputs": [],
   "source": [
    "import redis \n",
    "\n",
    "redis_client = redis.Redis(host=\"localhost\" , port=6379 , db=0 , decode_responses=True)\n",
    "\n",
    "users_data = [\n",
    "    {\"user_id\": \"user_1\", \"age\": 25, \"score\": 85.5},\n",
    "    {\"user_id\": \"user_2\", \"age\": 30, \"score\": 90.0},\n",
    "    {\"user_id\": \"user_3\", \"age\": 22, \"score\": 76.4},\n",
    "]\n",
    "\n"
   ]
  },
  {
   "cell_type": "code",
   "execution_count": 3,
   "metadata": {},
   "outputs": [
    {
     "name": "stdout",
     "output_type": "stream",
     "text": [
      "{'age': '25', 'score': '85.5'}\n",
      "{'age': '30', 'score': '90.0'}\n",
      "{'age': '22', 'score': '76.4'}\n"
     ]
    }
   ],
   "source": [
    "p = redis_client.pipeline()\n",
    "\n",
    "for user in users_data :\n",
    "    p.hset(f'user:{user[\"user_id\"]}' , mapping={\"age\":user[\"age\"] , \"score\":user[\"score\"]}) \n",
    "\n",
    "\n",
    "p.execute()\n",
    "\n",
    "for user in users_data :\n",
    "    stored_data = redis_client.hgetall(f'user:{user[\"user_id\"]}')\n",
    "    print(stored_data)"
   ]
  }
 ],
 "metadata": {
  "kernelspec": {
   "display_name": "Python 3",
   "language": "python",
   "name": "python3"
  },
  "language_info": {
   "codemirror_mode": {
    "name": "ipython",
    "version": 3
   },
   "file_extension": ".py",
   "mimetype": "text/x-python",
   "name": "python",
   "nbconvert_exporter": "python",
   "pygments_lexer": "ipython3",
   "version": "3.10.1"
  }
 },
 "nbformat": 4,
 "nbformat_minor": 2
}
