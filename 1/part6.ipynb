{
 "cells": [
  {
   "cell_type": "markdown",
   "metadata": {},
   "source": [
    "# part 6\n",
    "## Leaderboard Implementation"
   ]
  },
  {
   "cell_type": "markdown",
   "metadata": {},
   "source": [
    "### Redis sorted sets :\n",
    "\n",
    "+ ZADD  < key >  < score > < member >\n",
    "+ ZADD players   790    Lester  ---> adds Lester with 790 steps to the players\n",
    "\n",
    "key is the name of the Sorted Set.\n",
    "elements are stored according to their score, not based on the order they’ve added.\n",
    "\n",
    "\n",
    "+ ZADD players 980 Mary 850 Alice  ---> 980=Mary  -  850=Alice\n",
    "\n",
    "- Use the `ZADD` command to add users and their scores.\n",
    "\n",
    "<br>\n",
    "\n",
    "<br>\n",
    "\n",
    "\n",
    "- Implement a function that returns the top N users.\n",
    "\n",
    "+ ZREVRANGE <key> <start> <stop> [WITHSCORES]\n",
    "\n",
    "ZREVRANGE returns members in reversed-rank order, with scores ordered from high to low.\n",
    "\n",
    "+ ZREVRANGE players 0 N  ----->  return top N elements\n",
    "\n",
    "<br>\n",
    "\n",
    "WITHSCORES, which returns the score for each member.\n",
    "+  ZREVRANGE players 0 N WITHSCORES"
   ]
  },
  {
   "cell_type": "code",
   "execution_count": 2,
   "metadata": {},
   "outputs": [
    {
     "data": {
      "text/plain": [
       "[('user1', 30.0)]"
      ]
     },
     "execution_count": 2,
     "metadata": {},
     "output_type": "execute_result"
    }
   ],
   "source": [
    "import redis\n",
    "\n",
    "redis_client = redis.Redis(host='localhost', port=6379, db=0 ,decode_responses=True)\n",
    "\n",
    "key = \"board\"\n",
    "\n",
    "redis_client.zadd(key , {\"user1\" : 30})\n",
    "redis_client.zrange(key , 0 , -1 , withscores=True)"
   ]
  },
  {
   "cell_type": "code",
   "execution_count": 3,
   "metadata": {},
   "outputs": [
    {
     "data": {
      "text/plain": [
       "1"
      ]
     },
     "execution_count": 3,
     "metadata": {},
     "output_type": "execute_result"
    }
   ],
   "source": [
    "redis_client.zadd(key , {\"user2\":90})"
   ]
  },
  {
   "cell_type": "code",
   "execution_count": 4,
   "metadata": {},
   "outputs": [
    {
     "data": {
      "text/plain": [
       "4"
      ]
     },
     "execution_count": 4,
     "metadata": {},
     "output_type": "execute_result"
    }
   ],
   "source": [
    "redis_client.zadd(key , {\"user3\":45 , \"user4\":12 , \"user5\":70 , \"user6\":100})"
   ]
  },
  {
   "cell_type": "code",
   "execution_count": 5,
   "metadata": {},
   "outputs": [
    {
     "data": {
      "text/plain": [
       "[('user4', 12.0),\n",
       " ('user1', 30.0),\n",
       " ('user3', 45.0),\n",
       " ('user5', 70.0),\n",
       " ('user2', 90.0),\n",
       " ('user6', 100.0)]"
      ]
     },
     "execution_count": 5,
     "metadata": {},
     "output_type": "execute_result"
    }
   ],
   "source": [
    "redis_client.zrange(key , 0 , -1 , withscores=True)"
   ]
  },
  {
   "cell_type": "code",
   "execution_count": 14,
   "metadata": {},
   "outputs": [
    {
     "name": "stdout",
     "output_type": "stream",
     "text": [
      "('user5', 70.0)\n",
      "('user2', 90.0)\n",
      "('user6', 100.0)\n"
     ]
    }
   ],
   "source": [
    "sorted_list0 = redis_client.zrange(key , 0 , -1 , withscores=True)\n",
    "\n",
    "for item in sorted_list0[3:] :\n",
    "    print(item) "
   ]
  },
  {
   "cell_type": "markdown",
   "metadata": {},
   "source": [
    "## OR"
   ]
  },
  {
   "cell_type": "code",
   "execution_count": 13,
   "metadata": {},
   "outputs": [
    {
     "name": "stdout",
     "output_type": "stream",
     "text": [
      "('user6', 100.0)\n",
      "('user2', 90.0)\n",
      "('user5', 70.0)\n"
     ]
    }
   ],
   "source": [
    "sorted_list = redis_client.zrevrange(key , 0 , 2 , withscores=True)\n",
    "\n",
    "for item in sorted_list :\n",
    "    print(item)"
   ]
  }
 ],
 "metadata": {
  "kernelspec": {
   "display_name": "Python 3",
   "language": "python",
   "name": "python3"
  },
  "language_info": {
   "codemirror_mode": {
    "name": "ipython",
    "version": 3
   },
   "file_extension": ".py",
   "mimetype": "text/x-python",
   "name": "python",
   "nbconvert_exporter": "python",
   "pygments_lexer": "ipython3",
   "version": "3.10.1"
  }
 },
 "nbformat": 4,
 "nbformat_minor": 2
}
