{
 "cells": [
  {
   "cell_type": "markdown",
   "metadata": {},
   "source": [
    "# Remote Dictionary Server"
   ]
  },
  {
   "cell_type": "markdown",
   "metadata": {},
   "source": [
    "redis is a in-memory NoSQL database"
   ]
  },
  {
   "cell_type": "code",
   "execution_count": 1,
   "metadata": {},
   "outputs": [],
   "source": [
    "import redis"
   ]
  },
  {
   "cell_type": "code",
   "execution_count": 2,
   "metadata": {},
   "outputs": [],
   "source": [
    "r = redis.Redis(host=\"localhost\" , port=6379 , db=0)\n"
   ]
  },
  {
   "cell_type": "code",
   "execution_count": 3,
   "metadata": {},
   "outputs": [
    {
     "data": {
      "text/plain": [
       "True"
      ]
     },
     "execution_count": 3,
     "metadata": {},
     "output_type": "execute_result"
    }
   ],
   "source": [
    "r.set(\"Hello\",\"world\")\n",
    "\n",
    "# in this stage , we should create a database to access it , or else it will raise an error\n",
    "\n",
    "# '''\n",
    "# for having redis docker :\n",
    "     \n",
    "# 1_  docker pull redis\n",
    "\n",
    "# 2_ docker run --name myredis -d redis\n",
    "# (-d : it will run a container in the background , & DETACHING it from terminal)\n",
    "# or : docker run --name myredis redis \n",
    "# اینجا بازم ارور میده \n",
    "# چون با اینکه توی خود داکره ردیس از پورت ۶۳۷۹ داره استفاده میشه ولی باز هم \n",
    "# فوروارد نشده به بیرون \n",
    "# یعنی پورت ۶۳۷۹ داخل داکر به پورت ۶۳۷۹ بیرون داکر به هم وصل نشدن هنوز \n",
    "\n",
    "# <<<< docker run -p 6379:6379 --name myredis redis >>>\n",
    "# '''"
   ]
  },
  {
   "cell_type": "code",
   "execution_count": 4,
   "metadata": {},
   "outputs": [
    {
     "data": {
      "text/plain": [
       "b'world'"
      ]
     },
     "execution_count": 4,
     "metadata": {},
     "output_type": "execute_result"
    }
   ],
   "source": [
    "r.get(\"Hello\")"
   ]
  },
  {
   "cell_type": "markdown",
   "metadata": {},
   "source": [
    "in redis , information will be saved in byte format"
   ]
  },
  {
   "cell_type": "code",
   "execution_count": 6,
   "metadata": {},
   "outputs": [
    {
     "data": {
      "text/plain": [
       "'world'"
      ]
     },
     "execution_count": 6,
     "metadata": {},
     "output_type": "execute_result"
    }
   ],
   "source": [
    "# if we want to save data in string format :\n",
    "# set decode_responses=True \n",
    "new = redis.Redis(host=\"localhost\" , port=6379 , decode_responses=True , db=0)\n",
    "new.set(\"Hello\" , \"world\")\n",
    "new.get(\"Hello\")\n"
   ]
  }
 ],
 "metadata": {
  "kernelspec": {
   "display_name": "Python 3",
   "language": "python",
   "name": "python3"
  },
  "language_info": {
   "codemirror_mode": {
    "name": "ipython",
    "version": 3
   },
   "file_extension": ".py",
   "mimetype": "text/x-python",
   "name": "python",
   "nbconvert_exporter": "python",
   "pygments_lexer": "ipython3",
   "version": "3.10.1"
  }
 },
 "nbformat": 4,
 "nbformat_minor": 2
}
